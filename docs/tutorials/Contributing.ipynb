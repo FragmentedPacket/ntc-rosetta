{
 "cells": [
  {
   "cell_type": "markdown",
   "metadata": {},
   "source": [
    "# Contributing code and models\n",
    "\n",
    "- Step 1: **Read the [contribution guide](https://ntc-rosetta.readthedocs.io/en/latest/CONTRIBUTING.html)**!\n",
    "- Step 2: See Step 1\n",
    "- Step 3: Check the [support matrix](https://ntc-rosetta.readthedocs.io/en/latest/models/matrix/index.html).\n",
    "\n",
    "### Goals of this guide\n",
    "- A *high level* overview of\n",
    "  * Adding a YANG library\n",
    "  * Adding models\n",
    "  * Adding drivers\n",
    "\n",
    "### Non-goals\n",
    "- [How to open a PR](https://github.com/networktocode/ntc-rosetta/pulls)\n",
    "- [How to use Rosetta](https://ntc-rosetta.readthedocs.io/en/latest/tutorials/index.html)\n",
    "- [How to YANG](https://en.wikipedia.org/wiki/YANG)"
   ]
  },
  {
   "cell_type": "markdown",
   "metadata": {},
   "source": [
    "## Add a new library or model\n",
    "\n",
    "The network automation realm is in a constant state of flux, and YANG models are no different with revisions and additions.  First, please double check if the library model you want to support already exists in the [support matrix](https://ntc-rosetta.readthedocs.io/en/latest/models/matrix/index.html).\n",
    "\n",
    "### Add a library\n",
    "- Create the appropriate directory structure under `ntc_rosetta/ntc_rosetta/yang`.\n",
    "- Be sure to include your [YANG library](https://tools.ietf.org/html/rfc8525) json.\n",
    "- Update the datamodels in `ntc_rosetta/ntc_rosetta/yang/__init__.py`\n",
    "  - Update the _DATAMODELS hash\n",
    "  - Create a `get_my_new_library` method and add it to `get_data_model`.\n",
    "\n",
    "### Add a model\n",
    "- Put your file in the appropriate directory under the `ntc_rosetta/ntc_rosetta/yang/` folder.\n",
    "- Update the [YANG library](https://tools.ietf.org/html/rfc8525) json."
   ]
  },
  {
   "cell_type": "markdown",
   "metadata": {},
   "source": [
    "## Add a new driver\n",
    "\n",
    "- Create a file named after your driver in `ntc_rosetta/ntc_rosetta/drivers/my_awesome_driver.py`\n",
    "  - This file will import the parsers and translators for each YANG library it supports.  See the [existing drivers](https://github.com/networktocode/ntc-rosetta/tree/develop/ntc_rosetta/drivers) for examples.\n",
    "    - Each YANG library will have its own driver class in the driver file.  The library-specific parsers and translators are registered to its respective class. \n",
    "- Import the new driver in `ntc_rosetta/ntc_rosetta/__init__.py` and register it in the `mapping` dict under `get_driver`.\n",
    "\n",
    "### Creating parsers and translators\n",
    "\n",
    "This is the directory layout used within the `ntc_rosetta` module.\n",
    "```bash\n",
    "ntc_rosetta/{parsers,translators}/{yang_library_name}\n",
    "├── __init__.py  # <- probably empty\n",
    "└── {driver_name}\n",
    "   ├── __init__.py  # <- Needs to import the parsers/translators from each model\n",
    "   └── {model_name}\n",
    "      ├── __init__.py  # <- probably empty\n",
    "      └── {attrib}.py  # <- Implements the Yangify parser/translator for {model_name}\n",
    "```\n",
    "- Create the appropriate file structure and write your parsers and translators.  Again, see the [source code](https://github.com/networktocode/ntc-rosetta/tree/develop/ntc_rosetta) for examples.\n",
    "- As mentioned earlier, each library gets its own class under the master driver, so each `{library_name}Parser` (or Translator) class needs to be registered with [`ntc_rosetta/ntc_rosetta/parsers/__init__.py`](https://github.com/networktocode/ntc-rosetta/blob/develop/ntc_rosetta/parsers/__init__.py)."
   ]
  },
  {
   "cell_type": "code",
   "execution_count": null,
   "metadata": {},
   "outputs": [],
   "source": []
  }
 ],
 "metadata": {
  "kernelspec": {
   "display_name": "Python 3",
   "language": "python",
   "name": "python3"
  },
  "language_info": {
   "codemirror_mode": {
    "name": "ipython",
    "version": 3
   },
   "file_extension": ".py",
   "mimetype": "text/x-python",
   "name": "python",
   "nbconvert_exporter": "python",
   "pygments_lexer": "ipython3",
   "version": "3.6.9"
  }
 },
 "nbformat": 4,
 "nbformat_minor": 2
}
